{
 "nbformat": 4,
 "nbformat_minor": 2,
 "metadata": {
  "language_info": {
   "name": "python",
   "codemirror_mode": {
    "name": "ipython",
    "version": 3
   },
   "version": "3.6.8-final"
  },
  "orig_nbformat": 2,
  "file_extension": ".py",
  "mimetype": "text/x-python",
  "name": "python",
  "npconvert_exporter": "python",
  "pygments_lexer": "ipython3",
  "version": 3,
  "kernelspec": {
   "name": "python36864bitdatascienceprojectvenv36553e80b6c242adb7c1d4a993cc8874",
   "display_name": "Python 3.6.8 64-bit ('DataScienceProject': venv)"
  }
 },
 "cells": [
  {
   "cell_type": "markdown",
   "metadata": {},
   "source": [
    "# Titanic - Experiment 12\n",
    "\n",
    " 1. Frame Problem and Objective\n",
    " 2. Describe and Wrangle Data\n",
    " 3. Process Data\n",
    " 4. Explore Data\n",
    " 5. Modeling and Evaluation"
   ]
  },
  {
   "cell_type": "markdown",
   "metadata": {},
   "source": [
    "### Import libraries"
   ]
  },
  {
   "cell_type": "code",
   "execution_count": 3,
   "metadata": {},
   "outputs": [],
   "source": [
    "import os\n",
    "import sys\n",
    "import warnings\n",
    "\n",
    "import scipy\n",
    "import numpy as np\n",
    "import pandas as pd\n",
    "\n",
    "import matplotlib.pyplot as plt\n",
    "import seaborn as sns\n",
    "from matplotlib.colors import ListedColormap\n",
    "\n",
    "from IPython.core.interactiveshell import InteractiveShell\n",
    "from IPython.display import display\n",
    "\n",
    "if os.getcwd() not in sys.path:\n",
    "    sys.path.append(os.getcwd())\n",
    "from Titanic.Code.DataPrep.titanic import Titanic\n",
    "from Titanic.Code.DataPrep.helpers import score_impute_strategies"
   ]
  },
  {
   "cell_type": "markdown",
   "metadata": {},
   "source": [
    "### Change notebook settings"
   ]
  },
  {
   "cell_type": "code",
   "execution_count": 2,
   "metadata": {},
   "outputs": [],
   "source": [
    "warnings.filterwarnings('ignore')\n",
    "np.random.seed(17)\n",
    "InteractiveShell.ast_node_interactivity = \"all\"\n",
    "plt.style.use('classic')\n",
    "%matplotlib inline"
   ]
  },
  {
   "cell_type": "markdown",
   "metadata": {},
   "source": [
    "## 1. Frame Problem and Objective"
   ]
  },
  {
   "cell_type": "markdown",
   "metadata": {},
   "source": [
    "#### Problem:\n",
    "On April 15, 1912, the [RMS Titanic](https://en.wikipedia.org/wiki/RMS_Titanic) collided with an iceberg killing more than 1,500 of an *estimated* 2,224 passengers and crew.\n",
    "\n",
    "***\n",
    "\n",
    "#### Objective:\n",
    "Given a set of passenger records from the RMS Titanic, our objective is to generate a model that can predict if a passenger survived the disaster. Therefore, because we know the output can only be one of two discrete values, we can assume the problem type is **[binary classification](https://en.wikipedia.org/wiki/Binary_classification)**."
   ]
  },
  {
   "cell_type": "markdown",
   "metadata": {},
   "source": [
    "There are many machine learning models available from the [scikit-learn](https://scikit-learn.org/stable/) library we can leverage for a **binary classification** problem. A handful of these models are:\n",
    " * [Logistic regression](https://scikit-learn.org/stable/modules/linear_model.html#logistic-regression)\n",
    " * [Decision trees](https://scikit-learn.org/stable/modules/tree.html#classification)\n",
    " * [Random forests](https://scikit-learn.org/stable/modules/ensemble.html#forests-of-randomized-trees)\n",
    " * [Support vector machines](https://scikit-learn.org/stable/modules/svm.html#classification)"
   ]
  },
  {
   "cell_type": "code",
   "execution_count": 6,
   "metadata": {},
   "outputs": [],
   "source": [
    "from sklearn.linear_model import LogisticRegression\n",
    "from sklearn.tree import DecisionTreeClassifier\n",
    "from sklearn.ensemble import RandomForestClassifier\n",
    "from sklearn.svm import SVC"
   ]
  },
  {
   "cell_type": "markdown",
   "metadata": {},
   "source": [
    "## 2. Describe and Wrangle Data"
   ]
  },
  {
   "cell_type": "markdown",
   "metadata": {},
   "source": [
    "The data for this analysis project comes from [Kaggle](https://www.kaggle.com/c/titanic). The following variables are available in the data:\n",
    " * PassengerId\n",
    "    * This appears to be some Kaggle/system-generated identifier column\n",
    " * Survived\n",
    "    * Either 0 or 1 for 'No' or 'Yes' if the passenger survived, respectively\n",
    " * Pclass\n",
    "    * Ticket class of the passenger: first-class (1), second-class (2), or third-class (3)\n",
    " * Name\n",
    "    * Name of the passenger of the form: {last name}, {title} {first name} {middle name}\n",
    "    * Not all passengers have a middle name\n",
    " * Sex\n",
    "    * The sex of the passenger: 'male' or 'female'\n",
    " * Age\n",
    "    * Age of passenger (in years)\n",
    "    * Passengers less than 1 year old have their age expressed as a *float*\n",
    "    * Passengers with an *estimated* age is in the form xx.5\n",
    "    * A quick look at the data shows there are some records missing values\n",
    " * SibSp\n",
    "    * An aggregated field representing both the number of siblings **and/or** spouses of the passenger aboard the RMS Titanic\n",
    " * Parch\n",
    "    * An aggregated field representing both the number of parents **and/or** children of the passenger aboard the RMS Titanic\n",
    " * Ticket\n",
    "    * The ticket number of the passenger\n",
    " * Fare\n",
    "    * The fare charged to the passenger for the ticket\n",
    " * Cabin\n",
    "    * Cabin number of the passenger\n",
    "    * This variable also shows that there are missing values\n",
    " * Embarked\n",
    "    * The port of embarkation of the passenger: Cherbourg (C), Queenstown (Q), or Southampton (S)\n",
    "    * This variable has missing values"
   ]
  },
  {
   "cell_type": "code",
   "execution_count": null,
   "metadata": {},
   "outputs": [],
   "source": []
  }
 ]
}