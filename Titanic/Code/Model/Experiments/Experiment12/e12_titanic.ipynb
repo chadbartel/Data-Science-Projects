{
 "nbformat": 4,
 "nbformat_minor": 2,
 "metadata": {
  "language_info": {
   "name": "python",
   "codemirror_mode": {
    "name": "ipython",
    "version": 3
   },
   "version": "3.6.8-final"
  },
  "orig_nbformat": 2,
  "file_extension": ".py",
  "mimetype": "text/x-python",
  "name": "python",
  "npconvert_exporter": "python",
  "pygments_lexer": "ipython3",
  "version": 3,
  "kernelspec": {
   "name": "python36864bitdatascienceprojectvenv36553e80b6c242adb7c1d4a993cc8874",
   "display_name": "Python 3.6.8 64-bit ('DataScienceProject': venv)"
  }
 },
 "cells": [
  {
   "cell_type": "markdown",
   "metadata": {},
   "source": [
    "# Titanic - Experiment 12\n",
    "\n",
    " 1. Frame Problem and Objective\n",
    " 2. Describe and Wrangle Data\n",
    " 3. Process Data\n",
    " 4. Explore Data\n",
    " 5. Modeling and Evaluation"
   ]
  },
  {
   "cell_type": "markdown",
   "metadata": {},
   "source": [
    "### Import libraries"
   ]
  },
  {
   "cell_type": "code",
   "execution_count": 1,
   "metadata": {},
   "outputs": [],
   "source": [
    "import os\n",
    "import sys\n",
    "import warnings\n",
    "\n",
    "import scipy\n",
    "import numpy as np\n",
    "import pandas as pd\n",
    "\n",
    "import matplotlib.pyplot as plt\n",
    "import seaborn as sns\n",
    "from matplotlib.colors import ListedColormap\n",
    "\n",
    "from IPython.core.interactiveshell import InteractiveShell\n",
    "from IPython.display import display\n",
    "\n",
    "if os.getcwd() not in sys.path:\n",
    "    sys.path.append(os.getcwd())\n",
    "from Titanic.Code.DataPrep.titanic import Titanic\n",
    "from Titanic.Code.DataPrep.helpers import score_impute_strategies"
   ]
  },
  {
   "cell_type": "markdown",
   "metadata": {},
   "source": [
    "### Change notebook settings"
   ]
  },
  {
   "cell_type": "code",
   "execution_count": 2,
   "metadata": {},
   "outputs": [],
   "source": [
    "warnings.filterwarnings('ignore')\n",
    "np.random.seed(17)\n",
    "InteractiveShell.ast_node_interactivity = \"all\"\n",
    "plt.style.use('classic')\n",
    "%matplotlib inline"
   ]
  },
  {
   "cell_type": "markdown",
   "metadata": {},
   "source": [
    "## 1. Frame Problem and Objective"
   ]
  },
  {
   "cell_type": "markdown",
   "metadata": {},
   "source": [
    "#### Problem:\n",
    "On April 15, 1912, the [RMS Titanic](https://en.wikipedia.org/wiki/RMS_Titanic) collided with an iceberg killing more than 1,500 of an *estimated* 2,224 passengers and crew.\n",
    "\n",
    "***\n",
    "\n",
    "#### Objective:\n",
    "Given a set of passenger records from the RMS Titanic, our objective is to generate a model that can predict if a passenger survived the disaster. Therefore, because we know the output can only be one of two discrete values, we can assume the problem type is **[binary classification](https://en.wikipedia.org/wiki/Binary_classification)**."
   ]
  },
  {
   "cell_type": "markdown",
   "metadata": {},
   "source": [
    "There are many machine learning models available from the [scikit-learn](https://scikit-learn.org/stable/) library we can leverage for a **binary classification** problem. A handful of these models are:\n",
    " * [Logistic regression](https://scikit-learn.org/stable/modules/linear_model.html#logistic-regression)\n",
    " * [Decision trees](https://scikit-learn.org/stable/modules/tree.html#classification)\n",
    " * [Random forests](https://scikit-learn.org/stable/modules/ensemble.html#forests-of-randomized-trees)\n",
    " * [Support vector machines](https://scikit-learn.org/stable/modules/svm.html#classification)"
   ]
  },
  {
   "cell_type": "code",
   "execution_count": 3,
   "metadata": {},
   "outputs": [],
   "source": [
    "from sklearn.linear_model import LogisticRegression\n",
    "from sklearn.tree import DecisionTreeClassifier\n",
    "from sklearn.ensemble import RandomForestClassifier\n",
    "from sklearn.svm import SVC"
   ]
  },
  {
   "cell_type": "markdown",
   "metadata": {},
   "source": [
    "## 2. Describe and Wrangle Data"
   ]
  },
  {
   "cell_type": "markdown",
   "metadata": {},
   "source": [
    "The data for this analysis project comes from [Kaggle](https://www.kaggle.com/c/titanic). The following variables are available in the data:\n",
    " * PassengerId\n",
    "    * This appears to be some Kaggle/system-generated identifier column\n",
    " * Survived\n",
    "    * Either 0 or 1 for 'No' or 'Yes' if the passenger survived, respectively\n",
    " * Pclass\n",
    "    * Ticket class of the passenger: first-class (1), second-class (2), or third-class (3)\n",
    " * Name\n",
    "    * Name of the passenger of the form: {last name}, {title} {first name} {middle name}\n",
    "    * Not all passengers have a middle name\n",
    " * Sex\n",
    "    * The sex of the passenger: 'male' or 'female'\n",
    " * Age\n",
    "    * Age of passenger (in years)\n",
    "    * Passengers less than 1 year old have their age expressed as a *float*\n",
    "    * Passengers with an *estimated* age is in the form xx.5\n",
    "    * A quick look at the data shows there are some records missing values\n",
    " * SibSp\n",
    "    * An aggregated field representing both the number of siblings **and/or** spouses of the passenger aboard the RMS Titanic\n",
    " * Parch\n",
    "    * An aggregated field representing both the number of parents **and/or** children of the passenger aboard the RMS Titanic\n",
    " * Ticket\n",
    "    * The ticket number of the passenger\n",
    " * Fare\n",
    "    * The fare charged to the passenger for the ticket\n",
    " * Cabin\n",
    "    * Cabin number of the passenger\n",
    "    * This variable also shows that there are missing values\n",
    " * Embarked\n",
    "    * The port of embarkation of the passenger: Cherbourg (C), Queenstown (Q), or Southampton (S)\n",
    "    * This variable has missing values"
   ]
  },
  {
   "cell_type": "code",
   "execution_count": 4,
   "metadata": {},
   "outputs": [],
   "source": [
    "# Read data: train\n",
    "train = pd.read_csv(r'Titanic\\Data\\Raw\\train.csv')"
   ]
  },
  {
   "cell_type": "code",
   "execution_count": 5,
   "metadata": {},
   "outputs": [
    {
     "output_type": "execute_result",
     "data": {
      "text/plain": "        PassengerId    Survived      Pclass                 Name   Sex  \\\ncount    891.000000  891.000000  891.000000                  891   891   \nunique          NaN         NaN         NaN                  891     2   \ntop             NaN         NaN         NaN  Taussig, Miss. Ruth  male   \nfreq            NaN         NaN         NaN                    1   577   \nmean     446.000000    0.383838    2.308642                  NaN   NaN   \nstd      257.353842    0.486592    0.836071                  NaN   NaN   \nmin        1.000000    0.000000    1.000000                  NaN   NaN   \n25%      223.500000    0.000000    2.000000                  NaN   NaN   \n50%      446.000000    0.000000    3.000000                  NaN   NaN   \n75%      668.500000    1.000000    3.000000                  NaN   NaN   \nmax      891.000000    1.000000    3.000000                  NaN   NaN   \n\n               Age       SibSp       Parch    Ticket        Fare        Cabin  \\\ncount   714.000000  891.000000  891.000000       891  891.000000          204   \nunique         NaN         NaN         NaN       681         NaN          147   \ntop            NaN         NaN         NaN  CA. 2343         NaN  C23 C25 C27   \nfreq           NaN         NaN         NaN         7         NaN            4   \nmean     29.699118    0.523008    0.381594       NaN   32.204208          NaN   \nstd      14.526497    1.102743    0.806057       NaN   49.693429          NaN   \nmin       0.420000    0.000000    0.000000       NaN    0.000000          NaN   \n25%      20.125000    0.000000    0.000000       NaN    7.910400          NaN   \n50%      28.000000    0.000000    0.000000       NaN   14.454200          NaN   \n75%      38.000000    1.000000    0.000000       NaN   31.000000          NaN   \nmax      80.000000    8.000000    6.000000       NaN  512.329200          NaN   \n\n       Embarked  \ncount       889  \nunique        3  \ntop           S  \nfreq        644  \nmean        NaN  \nstd         NaN  \nmin         NaN  \n25%         NaN  \n50%         NaN  \n75%         NaN  \nmax         NaN  ",
      "text/html": "<div>\n<style scoped>\n    .dataframe tbody tr th:only-of-type {\n        vertical-align: middle;\n    }\n\n    .dataframe tbody tr th {\n        vertical-align: top;\n    }\n\n    .dataframe thead th {\n        text-align: right;\n    }\n</style>\n<table border=\"1\" class=\"dataframe\">\n  <thead>\n    <tr style=\"text-align: right;\">\n      <th></th>\n      <th>PassengerId</th>\n      <th>Survived</th>\n      <th>Pclass</th>\n      <th>Name</th>\n      <th>Sex</th>\n      <th>Age</th>\n      <th>SibSp</th>\n      <th>Parch</th>\n      <th>Ticket</th>\n      <th>Fare</th>\n      <th>Cabin</th>\n      <th>Embarked</th>\n    </tr>\n  </thead>\n  <tbody>\n    <tr>\n      <th>count</th>\n      <td>891.000000</td>\n      <td>891.000000</td>\n      <td>891.000000</td>\n      <td>891</td>\n      <td>891</td>\n      <td>714.000000</td>\n      <td>891.000000</td>\n      <td>891.000000</td>\n      <td>891</td>\n      <td>891.000000</td>\n      <td>204</td>\n      <td>889</td>\n    </tr>\n    <tr>\n      <th>unique</th>\n      <td>NaN</td>\n      <td>NaN</td>\n      <td>NaN</td>\n      <td>891</td>\n      <td>2</td>\n      <td>NaN</td>\n      <td>NaN</td>\n      <td>NaN</td>\n      <td>681</td>\n      <td>NaN</td>\n      <td>147</td>\n      <td>3</td>\n    </tr>\n    <tr>\n      <th>top</th>\n      <td>NaN</td>\n      <td>NaN</td>\n      <td>NaN</td>\n      <td>Taussig, Miss. Ruth</td>\n      <td>male</td>\n      <td>NaN</td>\n      <td>NaN</td>\n      <td>NaN</td>\n      <td>CA. 2343</td>\n      <td>NaN</td>\n      <td>C23 C25 C27</td>\n      <td>S</td>\n    </tr>\n    <tr>\n      <th>freq</th>\n      <td>NaN</td>\n      <td>NaN</td>\n      <td>NaN</td>\n      <td>1</td>\n      <td>577</td>\n      <td>NaN</td>\n      <td>NaN</td>\n      <td>NaN</td>\n      <td>7</td>\n      <td>NaN</td>\n      <td>4</td>\n      <td>644</td>\n    </tr>\n    <tr>\n      <th>mean</th>\n      <td>446.000000</td>\n      <td>0.383838</td>\n      <td>2.308642</td>\n      <td>NaN</td>\n      <td>NaN</td>\n      <td>29.699118</td>\n      <td>0.523008</td>\n      <td>0.381594</td>\n      <td>NaN</td>\n      <td>32.204208</td>\n      <td>NaN</td>\n      <td>NaN</td>\n    </tr>\n    <tr>\n      <th>std</th>\n      <td>257.353842</td>\n      <td>0.486592</td>\n      <td>0.836071</td>\n      <td>NaN</td>\n      <td>NaN</td>\n      <td>14.526497</td>\n      <td>1.102743</td>\n      <td>0.806057</td>\n      <td>NaN</td>\n      <td>49.693429</td>\n      <td>NaN</td>\n      <td>NaN</td>\n    </tr>\n    <tr>\n      <th>min</th>\n      <td>1.000000</td>\n      <td>0.000000</td>\n      <td>1.000000</td>\n      <td>NaN</td>\n      <td>NaN</td>\n      <td>0.420000</td>\n      <td>0.000000</td>\n      <td>0.000000</td>\n      <td>NaN</td>\n      <td>0.000000</td>\n      <td>NaN</td>\n      <td>NaN</td>\n    </tr>\n    <tr>\n      <th>25%</th>\n      <td>223.500000</td>\n      <td>0.000000</td>\n      <td>2.000000</td>\n      <td>NaN</td>\n      <td>NaN</td>\n      <td>20.125000</td>\n      <td>0.000000</td>\n      <td>0.000000</td>\n      <td>NaN</td>\n      <td>7.910400</td>\n      <td>NaN</td>\n      <td>NaN</td>\n    </tr>\n    <tr>\n      <th>50%</th>\n      <td>446.000000</td>\n      <td>0.000000</td>\n      <td>3.000000</td>\n      <td>NaN</td>\n      <td>NaN</td>\n      <td>28.000000</td>\n      <td>0.000000</td>\n      <td>0.000000</td>\n      <td>NaN</td>\n      <td>14.454200</td>\n      <td>NaN</td>\n      <td>NaN</td>\n    </tr>\n    <tr>\n      <th>75%</th>\n      <td>668.500000</td>\n      <td>1.000000</td>\n      <td>3.000000</td>\n      <td>NaN</td>\n      <td>NaN</td>\n      <td>38.000000</td>\n      <td>1.000000</td>\n      <td>0.000000</td>\n      <td>NaN</td>\n      <td>31.000000</td>\n      <td>NaN</td>\n      <td>NaN</td>\n    </tr>\n    <tr>\n      <th>max</th>\n      <td>891.000000</td>\n      <td>1.000000</td>\n      <td>3.000000</td>\n      <td>NaN</td>\n      <td>NaN</td>\n      <td>80.000000</td>\n      <td>8.000000</td>\n      <td>6.000000</td>\n      <td>NaN</td>\n      <td>512.329200</td>\n      <td>NaN</td>\n      <td>NaN</td>\n    </tr>\n  </tbody>\n</table>\n</div>"
     },
     "metadata": {},
     "execution_count": 5
    }
   ],
   "source": [
    "train.describe(include='all')"
   ]
  },
  {
   "cell_type": "code",
   "execution_count": 6,
   "metadata": {},
   "outputs": [
    {
     "output_type": "execute_result",
     "data": {
      "text/plain": "   PassengerId  Survived  Pclass  \\\n0            1         0       3   \n1            2         1       1   \n2            3         1       3   \n3            4         1       1   \n4            5         0       3   \n\n                                                Name     Sex   Age  SibSp  \\\n0                            Braund, Mr. Owen Harris    male  22.0      1   \n1  Cumings, Mrs. John Bradley (Florence Briggs Th...  female  38.0      1   \n2                             Heikkinen, Miss. Laina  female  26.0      0   \n3       Futrelle, Mrs. Jacques Heath (Lily May Peel)  female  35.0      1   \n4                           Allen, Mr. William Henry    male  35.0      0   \n\n   Parch            Ticket     Fare Cabin Embarked  \n0      0         A/5 21171   7.2500   NaN        S  \n1      0          PC 17599  71.2833   C85        C  \n2      0  STON/O2. 3101282   7.9250   NaN        S  \n3      0            113803  53.1000  C123        S  \n4      0            373450   8.0500   NaN        S  ",
      "text/html": "<div>\n<style scoped>\n    .dataframe tbody tr th:only-of-type {\n        vertical-align: middle;\n    }\n\n    .dataframe tbody tr th {\n        vertical-align: top;\n    }\n\n    .dataframe thead th {\n        text-align: right;\n    }\n</style>\n<table border=\"1\" class=\"dataframe\">\n  <thead>\n    <tr style=\"text-align: right;\">\n      <th></th>\n      <th>PassengerId</th>\n      <th>Survived</th>\n      <th>Pclass</th>\n      <th>Name</th>\n      <th>Sex</th>\n      <th>Age</th>\n      <th>SibSp</th>\n      <th>Parch</th>\n      <th>Ticket</th>\n      <th>Fare</th>\n      <th>Cabin</th>\n      <th>Embarked</th>\n    </tr>\n  </thead>\n  <tbody>\n    <tr>\n      <th>0</th>\n      <td>1</td>\n      <td>0</td>\n      <td>3</td>\n      <td>Braund, Mr. Owen Harris</td>\n      <td>male</td>\n      <td>22.0</td>\n      <td>1</td>\n      <td>0</td>\n      <td>A/5 21171</td>\n      <td>7.2500</td>\n      <td>NaN</td>\n      <td>S</td>\n    </tr>\n    <tr>\n      <th>1</th>\n      <td>2</td>\n      <td>1</td>\n      <td>1</td>\n      <td>Cumings, Mrs. John Bradley (Florence Briggs Th...</td>\n      <td>female</td>\n      <td>38.0</td>\n      <td>1</td>\n      <td>0</td>\n      <td>PC 17599</td>\n      <td>71.2833</td>\n      <td>C85</td>\n      <td>C</td>\n    </tr>\n    <tr>\n      <th>2</th>\n      <td>3</td>\n      <td>1</td>\n      <td>3</td>\n      <td>Heikkinen, Miss. Laina</td>\n      <td>female</td>\n      <td>26.0</td>\n      <td>0</td>\n      <td>0</td>\n      <td>STON/O2. 3101282</td>\n      <td>7.9250</td>\n      <td>NaN</td>\n      <td>S</td>\n    </tr>\n    <tr>\n      <th>3</th>\n      <td>4</td>\n      <td>1</td>\n      <td>1</td>\n      <td>Futrelle, Mrs. Jacques Heath (Lily May Peel)</td>\n      <td>female</td>\n      <td>35.0</td>\n      <td>1</td>\n      <td>0</td>\n      <td>113803</td>\n      <td>53.1000</td>\n      <td>C123</td>\n      <td>S</td>\n    </tr>\n    <tr>\n      <th>4</th>\n      <td>5</td>\n      <td>0</td>\n      <td>3</td>\n      <td>Allen, Mr. William Henry</td>\n      <td>male</td>\n      <td>35.0</td>\n      <td>0</td>\n      <td>0</td>\n      <td>373450</td>\n      <td>8.0500</td>\n      <td>NaN</td>\n      <td>S</td>\n    </tr>\n  </tbody>\n</table>\n</div>"
     },
     "metadata": {},
     "execution_count": 6
    }
   ],
   "source": [
    "train.head()"
   ]
  },
  {
   "cell_type": "markdown",
   "metadata": {},
   "source": [
    "Notes:\n",
    " - A couple of the columns in this data could be classified as categories: 'Sex' and 'Embarked'.\n",
    " - There are a handful of text fields with a high number of unique values: 'Name', 'Ticket', 'Cabin'.\n",
    "    - These are not categories, but may have some useful information buried in them.\n",
    " - We have five numeric columns that are exclusively integer values: 'PassengerId', 'Survived', 'Pclass', 'SibSp', 'Parch'.\n",
    " - The 'Age' column has estimates but is the only numeric float variable we have."
   ]
  },
  {
   "cell_type": "code",
   "execution_count": 7,
   "metadata": {},
   "outputs": [],
   "source": [
    "train = train.set_index('PassengerId', verify_integrity=True)"
   ]
  },
  {
   "cell_type": "code",
   "execution_count": 8,
   "metadata": {},
   "outputs": [
    {
     "output_type": "stream",
     "name": "stdout",
     "text": "<class 'pandas.core.frame.DataFrame'>\nInt64Index: 891 entries, 1 to 891\nData columns (total 11 columns):\nSurvived    891 non-null int64\nPclass      891 non-null int64\nName        891 non-null object\nSex         891 non-null object\nAge         714 non-null float64\nSibSp       891 non-null int64\nParch       891 non-null int64\nTicket      891 non-null object\nFare        891 non-null float64\nCabin       204 non-null object\nEmbarked    889 non-null object\ndtypes: float64(2), int64(4), object(5)\nmemory usage: 83.5+ KB\n"
    }
   ],
   "source": [
    "train.info()"
   ]
  },
  {
   "cell_type": "code",
   "execution_count": 9,
   "metadata": {},
   "outputs": [
    {
     "output_type": "execute_result",
     "data": {
      "text/plain": "array(['male', 'female'], dtype=object)"
     },
     "metadata": {},
     "execution_count": 9
    }
   ],
   "source": [
    "train['Sex'].unique()"
   ]
  },
  {
   "cell_type": "code",
   "execution_count": 10,
   "metadata": {},
   "outputs": [
    {
     "output_type": "execute_result",
     "data": {
      "text/plain": "array(['S', 'C', 'Q', nan], dtype=object)"
     },
     "metadata": {},
     "execution_count": 10
    }
   ],
   "source": [
    "train['Embarked'].unique()"
   ]
  },
  {
   "cell_type": "code",
   "execution_count": 11,
   "metadata": {},
   "outputs": [],
   "source": [
    "sex_category_dtype = pd.CategoricalDtype([\"male\", \"female\"])\n",
    "embarked_category_dtype = pd.CategoricalDtype([\"C\", \"Q\", \"S\"])"
   ]
  },
  {
   "cell_type": "code",
   "execution_count": 12,
   "metadata": {},
   "outputs": [
    {
     "output_type": "stream",
     "name": "stdout",
     "text": "<class 'pandas.core.frame.DataFrame'>\nInt64Index: 891 entries, 1 to 891\nData columns (total 11 columns):\nSurvived    891 non-null int64\nPclass      891 non-null int64\nName        891 non-null object\nSex         891 non-null category\nAge         714 non-null float64\nSibSp       891 non-null int64\nParch       891 non-null int64\nTicket      891 non-null object\nFare        891 non-null float64\nCabin       204 non-null object\nEmbarked    889 non-null category\ndtypes: category(2), float64(2), int64(4), object(3)\nmemory usage: 71.5+ KB\n"
    }
   ],
   "source": [
    "train['Sex'] = train['Sex'].astype(sex_category_dtype)\n",
    "train['Embarked'] = train['Embarked'].astype(embarked_category_dtype)\n",
    "train.info()"
   ]
  },
  {
   "cell_type": "markdown",
   "metadata": {},
   "source": [
    "## 3. Process Data"
   ]
  },
  {
   "cell_type": "markdown",
   "metadata": {},
   "source": [
    "We will examine the number of missing values for each observation in our train data set."
   ]
  },
  {
   "cell_type": "code",
   "execution_count": 13,
   "metadata": {},
   "outputs": [
    {
     "output_type": "execute_result",
     "data": {
      "text/plain": "Survived      0\nPclass        0\nName          0\nSex           0\nAge         177\nSibSp         0\nParch         0\nTicket        0\nFare          0\nCabin       687\nEmbarked      2\ndtype: int64"
     },
     "metadata": {},
     "execution_count": 13
    }
   ],
   "source": [
    "# Count of missing values\n",
    "train.isnull().sum()"
   ]
  },
  {
   "cell_type": "code",
   "execution_count": 14,
   "metadata": {},
   "outputs": [
    {
     "output_type": "execute_result",
     "data": {
      "text/plain": "Survived     0.000000\nPclass       0.000000\nName         0.000000\nSex          0.000000\nAge         19.865320\nSibSp        0.000000\nParch        0.000000\nTicket       0.000000\nFare         0.000000\nCabin       77.104377\nEmbarked     0.224467\ndtype: float64"
     },
     "metadata": {},
     "execution_count": 14
    }
   ],
   "source": [
    "# Ratio of missing values\n",
    "train.isnull().sum()/len(train)*100"
   ]
  },
  {
   "cell_type": "markdown",
   "metadata": {},
   "source": [
    "The analysis above shows that we have three columns with missing values:\n",
    " - Age: there is a relatively low number of missing values here, therefore we should be comfortable with imputing here.\n",
    "    - *We will impute the median.*\n",
    " - Cabin: a majority of observations in this column are missing, therefore it would be best to just remove this.\n",
    " - Embarked: there are only 2 observations missing a value in this column, therefore we should be comfortable with imputing here.\n",
    "    - *We will impute the most common value here.*"
   ]
  },
  {
   "cell_type": "code",
   "execution_count": 15,
   "metadata": {},
   "outputs": [
    {
     "output_type": "execute_result",
     "data": {
      "text/plain": "0"
     },
     "metadata": {},
     "execution_count": 15
    }
   ],
   "source": [
    "# Impute 'Age' with median\n",
    "age_median = train['Age'].median()\n",
    "train['Age'] = train['Age'].fillna(value=age_median)\n",
    "train['Age'].isnull().sum()"
   ]
  },
  {
   "cell_type": "code",
   "execution_count": 16,
   "metadata": {},
   "outputs": [
    {
     "output_type": "execute_result",
     "data": {
      "text/plain": "Index(['Survived', 'Pclass', 'Name', 'Sex', 'Age', 'SibSp', 'Parch', 'Ticket',\n       'Fare', 'Embarked'],\n      dtype='object')"
     },
     "metadata": {},
     "execution_count": 16
    }
   ],
   "source": [
    "# Drop 'Cabin'\n",
    "train = train.drop(columns=['Cabin'])\n",
    "train.columns"
   ]
  },
  {
   "cell_type": "code",
   "execution_count": 17,
   "metadata": {},
   "outputs": [
    {
     "output_type": "execute_result",
     "data": {
      "text/plain": "0"
     },
     "metadata": {},
     "execution_count": 17
    }
   ],
   "source": [
    "# Impute 'Embarked' with mode\n",
    "embarked_mode = train['Embarked'].mode().values[0]\n",
    "train['Embarked'] = train['Embarked'].fillna(value=embarked_mode)\n",
    "train['Embarked'].isnull().sum()"
   ]
  },
  {
   "cell_type": "code",
   "execution_count": null,
   "metadata": {},
   "outputs": [],
   "source": []
  }
 ]
}